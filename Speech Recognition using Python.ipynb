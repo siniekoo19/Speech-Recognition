{
 "cells": [
  {
   "cell_type": "markdown",
   "id": "8849ef3a",
   "metadata": {},
   "source": [
    "## Importing libraries"
   ]
  },
  {
   "cell_type": "code",
   "execution_count": 1,
   "id": "709e0c0f",
   "metadata": {},
   "outputs": [],
   "source": [
    "import speech_recognition\n",
    "import pyttsx3\n",
    "import pyaudio"
   ]
  },
  {
   "cell_type": "markdown",
   "id": "251049fd",
   "metadata": {},
   "source": [
    "## Speech Recognition Code"
   ]
  },
  {
   "cell_type": "code",
   "execution_count": 2,
   "id": "72efd67b",
   "metadata": {},
   "outputs": [
    {
     "name": "stdout",
     "output_type": "stream",
     "text": [
      "Say.... \n",
      "Recognized audio is:\n",
      "hello welcome to my github\n",
      "Recognized audio is:\n",
      "stop\n"
     ]
    }
   ],
   "source": [
    "print(\"Say.... \")\n",
    "recognizer = speech_recognition.Recognizer()\n",
    "\n",
    "while True:\n",
    "    try:\n",
    "        with speech_recognition.Microphone() as mic:\n",
    "            \n",
    "            recognizer.adjust_for_ambient_noise(mic, duration = 0.2)\n",
    "            audio = recognizer.listen(mic)\n",
    "            \n",
    "            text = recognizer.recognize_google(audio)\n",
    "            text = text.lower()\n",
    "            \n",
    "            print(f\"Recognized audio is:\\n{text}\")\n",
    "            \n",
    "            # To Stop the recognition of Voice Say \"Stop\"\n",
    "            if text == \"stop\":\n",
    "                break\n",
    "            \n",
    "    except speech_recognition.UnknownValueError():\n",
    "        print(\"Expectation occur\")\n",
    "        recognizer = speech_recognition.Recognizer()\n",
    "        continue\n",
    "        \n",
    "    except speech_recognition.UnknownValueError as e:\n",
    "        print(f\"Unknown value Error\")\n",
    "        \n",
    "    except speech_recognition.RequestError as e:\n",
    "        print(f\"Error with the request to Google Speech Recognition service: {e}\")\n",
    "\n",
    "    except Exception as e:\n",
    "        print(f\"An unexpected error occurred: {e}\")"
   ]
  },
  {
   "cell_type": "code",
   "execution_count": null,
   "id": "e65ff7d9",
   "metadata": {},
   "outputs": [],
   "source": []
  }
 ],
 "metadata": {
  "kernelspec": {
   "display_name": "Python 3 (ipykernel)",
   "language": "python",
   "name": "python3"
  },
  "language_info": {
   "codemirror_mode": {
    "name": "ipython",
    "version": 3
   },
   "file_extension": ".py",
   "mimetype": "text/x-python",
   "name": "python",
   "nbconvert_exporter": "python",
   "pygments_lexer": "ipython3",
   "version": "3.9.12"
  }
 },
 "nbformat": 4,
 "nbformat_minor": 5
}
